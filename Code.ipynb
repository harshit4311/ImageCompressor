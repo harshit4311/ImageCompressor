{
 "cells": [
  {
   "cell_type": "code",
   "execution_count": 1,
   "metadata": {},
   "outputs": [],
   "source": [
    "import numpy\n",
    "from PIL import Image"
   ]
  },
  {
   "cell_type": "code",
   "execution_count": 2,
   "metadata": {},
   "outputs": [],
   "source": [
    "# Open the image and return 3 matrices, each corresponding to one channel (R, G and B channels)\n",
    "def openImage(imagePath):\n",
    "    original_Image = Image.open(imagePath)\n",
    "    \n",
    "    image = numpy.array(original_Image)\n",
    "\n",
    "    redPixels = image[:, :, 0]\n",
    "    greenPixels = image[:, :, 1]\n",
    "    bluePixels = image[:, :, 2]\n",
    "\n",
    "    return [redPixels, greenPixels, bluePixels, original_Image]"
   ]
  },
  {
   "cell_type": "code",
   "execution_count": 3,
   "metadata": {},
   "outputs": [],
   "source": [
    "# Compress the matrix of a single channel(each of the 3 matrices) using SVD\n",
    "# It performs SVD on the channel matrix and then reconstructs the compressed matrix using a limited number of singular values.\n",
    "\n",
    "def compressSingleChannel(channelDataMatrix, singularValuesLimit):\n",
    "    leftSingularVectors, singularValues, rightSingularVectors = numpy.linalg.svd(channelDataMatrix)\n",
    "    \n",
    "    # Create a new matrix filled with zeros\n",
    "    # numpy.zeros() is a NumPy function that creates a new array filled with zeros. It tacompressionLimites the shape of the desired array as an argument.\n",
    "    # channelDataMatrix.shape[0] represents the number of rows in channelDataMatrix\n",
    "    # channelDataMatrix.shape[1] represents the number of columns in channelDataMatrix\n",
    "    compressedChannelData = numpy.zeros((channelDataMatrix.shape[0], channelDataMatrix.shape[1]))\n",
    "    compressionLimit = singularValuesLimit # This would decide the amount of compression you want to do\n",
    "\n",
    "    # Performs a matrix multiplication operation to compute the left-hand side of the compressed channel matrix.\n",
    "    leftSide = numpy.matmul(leftSingularVectors[:, 0:compressionLimit], numpy.diag(singularValues)[0:compressionLimit, 0:compressionLimit])\n",
    "    \n",
    "    # Performs a matrix multiplication operation to compute the compressed representation of the channel data.\n",
    "    compressedChannelDataInner = numpy.matmul(leftSide, rightSingularVectors[0:compressionLimit, :])\n",
    "    \n",
    "    compressedChannelData = compressedChannelDataInner.astype('uint8')   # \"uint8\" is a datatype (standard for image data).\n",
    "    return compressedChannelData"
   ]
  },
  {
   "cell_type": "code",
   "execution_count": 4,
   "metadata": {},
   "outputs": [
    {
     "name": "stdout",
     "output_type": "stream",
     "text": [
      "---> Image Compression using SVD <---\n"
     ]
    }
   ],
   "source": [
    "# Main Program:\n",
    "print(\"---> Image Compression using SVD <---\")\n",
    "\n",
    "# Calling the \"openImage\" function with the file path and assigning the returned values to four variables\n",
    "redPixels, greenPixels, bluePixels, original_Image = openImage('London-Wallpaper.png')"
   ]
  },
  {
   "cell_type": "code",
   "execution_count": 5,
   "metadata": {},
   "outputs": [],
   "source": [
    "# image width and height:\n",
    "imageWidth = 512\n",
    "imageHeight = 512"
   ]
  },
  {
   "cell_type": "code",
   "execution_count": 6,
   "metadata": {},
   "outputs": [],
   "source": [
    "# Number of singular values to use for reconstructing the compressed image\n",
    "# We can INCREASE the compression by DECREASING the singularValueaLimit\n",
    "singularValuesLimit = 80"
   ]
  },
  {
   "cell_type": "code",
   "execution_count": 7,
   "metadata": {},
   "outputs": [],
   "source": [
    "# Compressing each color channel (Red, Green, and Blue) of the image individually using the compressSingleChannel function\n",
    "redPixelsCompressed = compressSingleChannel(redPixels, singularValuesLimit)\n",
    "greenPixelsCompressed = compressSingleChannel(greenPixels, singularValuesLimit)\n",
    "bluePixelsCompressed = compressSingleChannel(bluePixels, singularValuesLimit)"
   ]
  },
  {
   "cell_type": "code",
   "execution_count": 8,
   "metadata": {},
   "outputs": [],
   "source": [
    "# Using the Image.fromarray() function, which creates an image object from a NumPy array. \n",
    "# This line creates a new Image object (compressedRedImage/compressedGreenImage/compressedBlueImage) from the compressed version of the Red/Green/Blue channels\n",
    "compressedRedImage = Image.fromarray(redPixelsCompressed, mode = None)\n",
    "compressedGreenImage = Image.fromarray(greenPixelsCompressed, mode = None)\n",
    "compressedBlueImage = Image.fromarray(bluePixelsCompressed, mode = None)"
   ]
  },
  {
   "cell_type": "code",
   "execution_count": 9,
   "metadata": {},
   "outputs": [],
   "source": [
    "# Merging the compressed versions of the Red, Green, and Blue channels into a single compressed image.\n",
    "newImage = Image.merge(\"RGB\", (compressedRedImage, compressedGreenImage, compressedBlueImage))"
   ]
  },
  {
   "cell_type": "code",
   "execution_count": 10,
   "metadata": {},
   "outputs": [],
   "source": [
    "# Displaying both, Old and New Images after Compressing and Merging all 3 (Red, Green and Blue) Channels\n",
    "original_Image.show()\n",
    "newImage.show()"
   ]
  },
  {
   "cell_type": "code",
   "execution_count": 11,
   "metadata": {},
   "outputs": [],
   "source": [
    "# Calculate the COMPRESSION RATIO\n",
    "originalImageHeight = imageHeight\n",
    "originalImageWidth = imageWidth"
   ]
  },
  {
   "cell_type": "code",
   "execution_count": 13,
   "metadata": {},
   "outputs": [
    {
     "name": "stdout",
     "output_type": "stream",
     "text": [
      "Image Successfully Compressed!! \n",
      "\n"
     ]
    },
    {
     "ename": "NameError",
     "evalue": "name 'originalSize' is not defined",
     "output_type": "error",
     "traceback": [
      "\u001b[0;31m---------------------------------------------------------------------------\u001b[0m",
      "\u001b[0;31mNameError\u001b[0m                                 Traceback (most recent call last)",
      "Cell \u001b[0;32mIn[13], line 5\u001b[0m\n\u001b[1;32m      2\u001b[0m \u001b[38;5;28mprint\u001b[39m(\u001b[38;5;124m\"\u001b[39m\u001b[38;5;124mImage Successfully Compressed!! \u001b[39m\u001b[38;5;130;01m\\n\u001b[39;00m\u001b[38;5;124m\"\u001b[39m)\n\u001b[1;32m      4\u001b[0m \u001b[38;5;66;03m# Convert sizes(in bytes) to megabytes\u001b[39;00m\n\u001b[0;32m----> 5\u001b[0m originalSize_MB \u001b[38;5;241m=\u001b[39m \u001b[43moriginalSize\u001b[49m \u001b[38;5;241m/\u001b[39m (\u001b[38;5;241m1024\u001b[39m \u001b[38;5;241m*\u001b[39m \u001b[38;5;241m1024\u001b[39m)\n\u001b[1;32m      6\u001b[0m compressedSize_MB \u001b[38;5;241m=\u001b[39m compressedSize \u001b[38;5;241m/\u001b[39m (\u001b[38;5;241m1024\u001b[39m \u001b[38;5;241m*\u001b[39m \u001b[38;5;241m1024\u001b[39m)\n\u001b[1;32m      8\u001b[0m \u001b[38;5;66;03m# Print sizes in megabytes\u001b[39;00m\n",
      "\u001b[0;31mNameError\u001b[0m: name 'originalSize' is not defined"
     ]
    }
   ],
   "source": [
    "# Print all the values\n",
    "print(\"Image Successfully Compressed!! \\n\")\n",
    "\n",
    "# Convert sizes(in bytes) to megabytes\n",
    "originalSize_MB = originalSize / (1024 * 1024)\n",
    "compressedSize_MB = compressedSize / (1024 * 1024)\n",
    "\n",
    "# Print sizes in megabytes\n",
    "print(\"Original Size =\", originalSize_MB, \"MB\")\n",
    "print(\"Compressed Size =\", compressedSize_MB, \"MB \\n\")\n",
    "\n",
    "# Ratio of compression\n",
    "ratio = compressedSize * 1.0 / originalSize\n",
    "print(\"Ratio of Compressed Size / Original Size = \", ratio)\n",
    "\n",
    "# print(\"Compressed image size is \" + str(round(ratio * 100, 2)) + \"% of the original image\")\n",
    "print()\n",
    "compressionPercentage = (1 - compressedSize / originalSize) * 100\n",
    "print(\"Compression Percentage =\", compressionPercentage, \"%\")"
   ]
  }
 ],
 "metadata": {
  "kernelspec": {
   "display_name": "Python 3",
   "language": "python",
   "name": "python3"
  },
  "language_info": {
   "codemirror_mode": {
    "name": "ipython",
    "version": 3
   },
   "file_extension": ".py",
   "mimetype": "text/x-python",
   "name": "python",
   "nbconvert_exporter": "python",
   "pygments_lexer": "ipython3",
   "version": "3.12.2"
  }
 },
 "nbformat": 4,
 "nbformat_minor": 2
}
